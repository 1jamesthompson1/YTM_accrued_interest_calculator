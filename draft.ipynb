{
 "cells": [
  {
   "cell_type": "code",
   "execution_count": 15,
   "metadata": {},
   "outputs": [],
   "source": [
    "import pandas as pd\n",
    "import scipy.optimize as opt\n",
    "from datetime import datetime\n",
    "import openpyxl"
   ]
  },
  {
   "cell_type": "code",
   "execution_count": 16,
   "metadata": {},
   "outputs": [
    {
     "data": {
      "text/plain": [
       "282.375"
      ]
     },
     "execution_count": 16,
     "metadata": {},
     "output_type": "execute_result"
    }
   ],
   "source": [
    "def calculate_coupon_payment_amount(face_value, coupon_rate, coupon_frequency):\n",
    "    return face_value * coupon_rate / coupon_frequency\n",
    "\n",
    "calculate_coupon_payment_amount(15_000, 0.0753, 4)"
   ]
  },
  {
   "cell_type": "code",
   "execution_count": 17,
   "metadata": {},
   "outputs": [
    {
     "data": {
      "text/plain": [
       "[Timestamp('1987-05-15 00:00:00'),\n",
       " Timestamp('1987-11-15 00:00:00'),\n",
       " Timestamp('1988-05-15 00:00:00'),\n",
       " Timestamp('1988-11-15 00:00:00')]"
      ]
     },
     "execution_count": 17,
     "metadata": {},
     "output_type": "execute_result"
    }
   ],
   "source": [
    "def generate_payment_dates(start_date, maturity_date, coupon_frequency):\n",
    "    dates = pd.date_range(start=start_date, end=maturity_date, freq=f\"{12//coupon_frequency}ME\", )\n",
    "    dates = list(dates.map(lambda x: x.replace(day=15)))\n",
    "\n",
    "    maturity_date = pd.Timestamp(maturity_date)\n",
    "    if maturity_date not in dates:\n",
    "        dates.append(maturity_date)\n",
    "\n",
    "    return dates\n",
    "\n",
    "generate_payment_dates(\"1987-05-15\", \"1988-11-15\", 2)"
   ]
  },
  {
   "cell_type": "code",
   "execution_count": 18,
   "metadata": {},
   "outputs": [
    {
     "data": {
      "application/vnd.microsoft.datawrangler.viewer.v0+json": {
       "columns": [
        {
         "name": "index",
         "rawType": "int64",
         "type": "integer"
        },
        {
         "name": "Date",
         "rawType": "datetime64[ns]",
         "type": "datetime"
        },
        {
         "name": "Cash Flow",
         "rawType": "float64",
         "type": "float"
        },
        {
         "name": "Elapsed Days",
         "rawType": "int64",
         "type": "integer"
        }
       ],
       "conversionMethod": "pd.DataFrame",
       "ref": "1293d781-87cb-4e97-94ca-3067d2979dee",
       "rows": [
        [
         "0",
         "1987-03-12 00:00:00",
         "-1012500.0",
         "0"
        ],
        [
         "1",
         "1987-03-31 00:00:00",
         "0.0",
         "19"
        ],
        [
         "2",
         "1987-05-15 00:00:00",
         "70000.0",
         "45"
        ],
        [
         "3",
         "1987-11-15 00:00:00",
         "70000.0",
         "184"
        ],
        [
         "4",
         "1988-03-31 00:00:00",
         "0.0",
         "137"
        ],
        [
         "5",
         "1988-05-15 00:00:00",
         "70000.0",
         "45"
        ],
        [
         "6",
         "1988-11-15 00:00:00",
         "1070000.0",
         "184"
        ],
        [
         "7",
         "1989-03-31 00:00:00",
         "0.0",
         "136"
        ]
       ],
       "shape": {
        "columns": 3,
        "rows": 8
       }
      },
      "text/html": [
       "<div>\n",
       "<style scoped>\n",
       "    .dataframe tbody tr th:only-of-type {\n",
       "        vertical-align: middle;\n",
       "    }\n",
       "\n",
       "    .dataframe tbody tr th {\n",
       "        vertical-align: top;\n",
       "    }\n",
       "\n",
       "    .dataframe thead th {\n",
       "        text-align: right;\n",
       "    }\n",
       "</style>\n",
       "<table border=\"1\" class=\"dataframe\">\n",
       "  <thead>\n",
       "    <tr style=\"text-align: right;\">\n",
       "      <th></th>\n",
       "      <th>Date</th>\n",
       "      <th>Cash Flow</th>\n",
       "      <th>Elapsed Days</th>\n",
       "    </tr>\n",
       "  </thead>\n",
       "  <tbody>\n",
       "    <tr>\n",
       "      <th>0</th>\n",
       "      <td>1987-03-12</td>\n",
       "      <td>-1012500.0</td>\n",
       "      <td>0</td>\n",
       "    </tr>\n",
       "    <tr>\n",
       "      <th>1</th>\n",
       "      <td>1987-03-31</td>\n",
       "      <td>0.0</td>\n",
       "      <td>19</td>\n",
       "    </tr>\n",
       "    <tr>\n",
       "      <th>2</th>\n",
       "      <td>1987-05-15</td>\n",
       "      <td>70000.0</td>\n",
       "      <td>45</td>\n",
       "    </tr>\n",
       "    <tr>\n",
       "      <th>3</th>\n",
       "      <td>1987-11-15</td>\n",
       "      <td>70000.0</td>\n",
       "      <td>184</td>\n",
       "    </tr>\n",
       "    <tr>\n",
       "      <th>4</th>\n",
       "      <td>1988-03-31</td>\n",
       "      <td>0.0</td>\n",
       "      <td>137</td>\n",
       "    </tr>\n",
       "    <tr>\n",
       "      <th>5</th>\n",
       "      <td>1988-05-15</td>\n",
       "      <td>70000.0</td>\n",
       "      <td>45</td>\n",
       "    </tr>\n",
       "    <tr>\n",
       "      <th>6</th>\n",
       "      <td>1988-11-15</td>\n",
       "      <td>1070000.0</td>\n",
       "      <td>184</td>\n",
       "    </tr>\n",
       "    <tr>\n",
       "      <th>7</th>\n",
       "      <td>1989-03-31</td>\n",
       "      <td>0.0</td>\n",
       "      <td>136</td>\n",
       "    </tr>\n",
       "  </tbody>\n",
       "</table>\n",
       "</div>"
      ],
      "text/plain": [
       "        Date  Cash Flow  Elapsed Days\n",
       "0 1987-03-12 -1012500.0             0\n",
       "1 1987-03-31        0.0            19\n",
       "2 1987-05-15    70000.0            45\n",
       "3 1987-11-15    70000.0           184\n",
       "4 1988-03-31        0.0           137\n",
       "5 1988-05-15    70000.0            45\n",
       "6 1988-11-15  1070000.0           184\n",
       "7 1989-03-31        0.0           136"
      ]
     },
     "execution_count": 18,
     "metadata": {},
     "output_type": "execute_result"
    }
   ],
   "source": [
    "def populate_cashflows(purchase_price, face_value, coupon_rate, coupon_frequency, first_coupon_amount, settlement_date, first_coupon_date, maturity_date):\n",
    "    cashflows = list()\n",
    "\n",
    "    payment_amount = calculate_coupon_payment_amount(face_value, coupon_rate, coupon_frequency)\n",
    "\n",
    "    # Payments will be on the same date of the month as the first coupon date. Separated by a fixed number of months.\n",
    "    payment_dates = generate_payment_dates(first_coupon_date, maturity_date, coupon_frequency)\n",
    "    cashflow_dates = [pd.Timestamp(settlement_date)] + payment_dates\n",
    "\n",
    "    for index, payment_date in enumerate(cashflow_dates):\n",
    "        elapsed_days = (payment_date - cashflows[-1][\"Date\"]).days if index > 0 else 0\n",
    "        if index == 0:\n",
    "            cashflows.append({'Date': payment_date, 'Cash Flow': -purchase_price, 'Elapsed Days': elapsed_days})\n",
    "        elif index == 1:\n",
    "            cashflows.append({'Date': payment_date, 'Cash Flow': first_coupon_amount, 'Elapsed Days': elapsed_days})\n",
    "        elif index == len(cashflow_dates) - 1:\n",
    "            cashflows.append({'Date': payment_date, 'Cash Flow': face_value + payment_amount, 'Elapsed Days': elapsed_days})\n",
    "            break\n",
    "        else:\n",
    "            cashflows.append({'Date': payment_date, 'Cash Flow': payment_amount, 'Elapsed Days': elapsed_days})\n",
    "\n",
    "        # Add in end of tax year if needed\n",
    "        if index < len(cashflow_dates) - 1:\n",
    "            next_end_of_tax_year = pd.Timestamp(f\"{payment_date.year}-03-31\") if payment_date < pd.Timestamp(f\"{payment_date.year}-03-31\") else pd.Timestamp(f\"{payment_date.year + 1}-03-31\")\n",
    "            if next_end_of_tax_year < cashflow_dates[index+1]:\n",
    "                cashflows.append({\n",
    "                    'Date': next_end_of_tax_year,\n",
    "                    'Cash Flow': 0,\n",
    "                    'Elapsed Days': (next_end_of_tax_year - payment_date).days\n",
    "                })\n",
    "\n",
    "    next_end_of_tax_year = pd.Timestamp(f\"{payment_dates[-1].year}-03-31\") if payment_dates[-1].month < 3 else pd.Timestamp(f\"{payment_dates[-1].year + 1}-03-31\")\n",
    "    cashflows.append({\n",
    "        'Date': next_end_of_tax_year,\n",
    "        'Cash Flow': 0,\n",
    "        'Elapsed Days': (next_end_of_tax_year - payment_dates[-1]).days\n",
    "    })\n",
    "\n",
    "    return pd.DataFrame(cashflows).fillna(0)\n",
    "\n",
    "# cashflows = populate_cashflows(50_000, 50_000, 0.0673, 4, 841.35, '2023-09-19', '2023-12-21', '2026-09-21')\n",
    "cashflows = populate_cashflows(1_012_500, 1_000_000, 0.14, 2, 70_000, '1987-03-12', '1987-05-15', '1988-11-15')\n",
    "# cashflows = populate_cashflows(20_000, 20_000, 0.0756, 4, 378, \"2023-09-19\", \"2023-12-21\", \"2026-09-21\")\n",
    "cashflows"
   ]
  },
  {
   "cell_type": "code",
   "execution_count": 19,
   "metadata": {},
   "outputs": [
    {
     "data": {
      "text/plain": [
       "np.float64(0.16213707840816954)"
      ]
     },
     "execution_count": 19,
     "metadata": {},
     "output_type": "execute_result"
    }
   ],
   "source": [
    "def calc_daily_rate(ytm, frequency):\n",
    "    true_rate = (1 + ytm/frequency) ** frequency - 1\n",
    "    daily_rate = (1 + true_rate) ** (1 / 365) - 1\n",
    "\n",
    "    return daily_rate\n",
    "def PV_of_cashflow(ytm, cashflows, frequency):\n",
    "    daily_rate = calc_daily_rate(ytm, frequency)\n",
    "    PV_factor = cashflows.apply(lambda x: (1 + daily_rate) ** (-(x['Date'] - cashflows.loc[0, 'Date']).days), axis=1)\n",
    "    PV_of_cashflows = cashflows['Cash Flow'] * PV_factor\n",
    "    return PV_of_cashflows.sum()\n",
    "\n",
    "def calculate_ytm(cashflows, first_guess, frequency):\n",
    "\n",
    "    ytm = opt.fsolve(PV_of_cashflow, first_guess, (cashflows, frequency), xtol=1e-12)\n",
    "\n",
    "    return ytm[0]\n",
    "\n",
    "ytm = calculate_ytm(cashflows, 0.14, 2)\n",
    "ytm"
   ]
  },
  {
   "cell_type": "code",
   "execution_count": 20,
   "metadata": {},
   "outputs": [
    {
     "data": {
      "text/plain": [
       "np.float64(-5.3551048040390015e-09)"
      ]
     },
     "execution_count": 20,
     "metadata": {},
     "output_type": "execute_result"
    }
   ],
   "source": [
    "PV_of_cashflow(0.16213707840816954, cashflows, 2)"
   ]
  },
  {
   "cell_type": "code",
   "execution_count": 21,
   "metadata": {},
   "outputs": [],
   "source": [
    "def populate_interest_principle_columns(cashflows, daily_rate):\n",
    "    new_columns = list()\n",
    "\n",
    "    for index, row in cashflows.iterrows():\n",
    "        if index == 0:\n",
    "            new_columns.append({\n",
    "                \"CurrentInterest\": 0,\n",
    "                \"CurrentPrincipal\": cashflows.loc[index, 'Cash Flow'],\n",
    "                \"CumulativeInterest\": 0,\n",
    "                \"ClosingPrincipal\": cashflows.loc[index, 'Cash Flow']\n",
    "            })\n",
    "            continue\n",
    "        current_interest = ((1+daily_rate)**cashflows.loc[index, 'Elapsed Days'] - 1) * (-new_columns[- 1]['ClosingPrincipal'])\n",
    "        current_principal = cashflows.loc[index, 'Cash Flow'] - current_interest\n",
    "        new_columns.append({\n",
    "            \"CurrentInterest\": current_interest,\n",
    "            \"CurrentPrincipal\": current_principal,\n",
    "            \"CumulativeInterest\": new_columns[-1]['CumulativeInterest'] + current_interest,\n",
    "            \"ClosingPrincipal\": new_columns[-1]['ClosingPrincipal'] + current_principal\n",
    "        })\n",
    "\n",
    "    return cashflows.join(pd.DataFrame(new_columns))\n",
    "\n",
    "cashflows_with_interest_principal = populate_interest_principle_columns(cashflows, 0.0004272139910217465)"
   ]
  },
  {
   "cell_type": "code",
   "execution_count": 22,
   "metadata": {},
   "outputs": [
    {
     "data": {
      "application/vnd.microsoft.datawrangler.viewer.v0+json": {
       "columns": [
        {
         "name": "index",
         "rawType": "int64",
         "type": "integer"
        },
        {
         "name": "Date",
         "rawType": "datetime64[ns]",
         "type": "datetime"
        },
        {
         "name": "Cash Flow",
         "rawType": "float64",
         "type": "float"
        },
        {
         "name": "Elapsed Days",
         "rawType": "int64",
         "type": "integer"
        },
        {
         "name": "CurrentInterest",
         "rawType": "float64",
         "type": "float"
        },
        {
         "name": "CurrentPrincipal",
         "rawType": "float64",
         "type": "float"
        },
        {
         "name": "CumulativeInterest",
         "rawType": "float64",
         "type": "float"
        },
        {
         "name": "ClosingPrincipal",
         "rawType": "float64",
         "type": "float"
        },
        {
         "name": "InterestToBalance",
         "rawType": "float64",
         "type": "float"
        }
       ],
       "conversionMethod": "pd.DataFrame",
       "ref": "cbb34f18-9c84-4fed-ba54-2bab0d7b9cfc",
       "rows": [
        [
         "0",
         "1987-03-12 00:00:00",
         "-1012500.0",
         "0",
         "0.0",
         "-1012500.0",
         "0.0",
         "-1012500.0",
         "0.0"
        ],
        [
         "1",
         "1987-03-31 00:00:00",
         "0.0",
         "19",
         "8250.20541783296",
         "-8250.20541783296",
         "8250.20541783296",
         "-1020750.2054178329",
         "8250.20541783296"
        ],
        [
         "2",
         "1987-05-15 00:00:00",
         "70000.0",
         "45",
         "19809.11503016484",
         "50190.884969835155",
         "28059.3204479978",
         "-970559.3204479978",
         "0.0"
        ],
        [
         "3",
         "1987-11-15 00:00:00",
         "70000.0",
         "184",
         "79354.2357991165",
         "-9354.235799116504",
         "107413.5562471143",
         "-979913.5562471143",
         "0.0"
        ],
        [
         "4",
         "1988-03-31 00:00:00",
         "0.0",
         "137",
         "59051.312676591515",
         "-59051.312676591515",
         "166464.86892370583",
         "-1038964.8689237059",
         "158214.66350587286"
        ],
        [
         "5",
         "1988-05-15 00:00:00",
         "70000.0",
         "45",
         "20162.596580017565",
         "49837.40341998244",
         "186627.4655037234",
         "-989127.4655037235",
         "0.0"
        ],
        [
         "6",
         "1988-11-15 00:00:00",
         "1070000.0",
         "184",
         "80872.3923198577",
         "989127.6076801423",
         "267499.8578235811",
         "0.14217641879804432",
         "0.0"
        ],
        [
         "7",
         "1989-03-31 00:00:00",
         "0.0",
         "136",
         "-0.008503428271919135",
         "0.008503428271919135",
         "267499.84932015283",
         "0.15067984706996346",
         "101034.980396447"
        ]
       ],
       "shape": {
        "columns": 8,
        "rows": 8
       }
      },
      "text/html": [
       "<div>\n",
       "<style scoped>\n",
       "    .dataframe tbody tr th:only-of-type {\n",
       "        vertical-align: middle;\n",
       "    }\n",
       "\n",
       "    .dataframe tbody tr th {\n",
       "        vertical-align: top;\n",
       "    }\n",
       "\n",
       "    .dataframe thead th {\n",
       "        text-align: right;\n",
       "    }\n",
       "</style>\n",
       "<table border=\"1\" class=\"dataframe\">\n",
       "  <thead>\n",
       "    <tr style=\"text-align: right;\">\n",
       "      <th></th>\n",
       "      <th>Date</th>\n",
       "      <th>Cash Flow</th>\n",
       "      <th>Elapsed Days</th>\n",
       "      <th>CurrentInterest</th>\n",
       "      <th>CurrentPrincipal</th>\n",
       "      <th>CumulativeInterest</th>\n",
       "      <th>ClosingPrincipal</th>\n",
       "      <th>InterestToBalance</th>\n",
       "    </tr>\n",
       "  </thead>\n",
       "  <tbody>\n",
       "    <tr>\n",
       "      <th>0</th>\n",
       "      <td>1987-03-12</td>\n",
       "      <td>-1012500.0</td>\n",
       "      <td>0</td>\n",
       "      <td>0.000000</td>\n",
       "      <td>-1.012500e+06</td>\n",
       "      <td>0.000000</td>\n",
       "      <td>-1.012500e+06</td>\n",
       "      <td>0.000000</td>\n",
       "    </tr>\n",
       "    <tr>\n",
       "      <th>1</th>\n",
       "      <td>1987-03-31</td>\n",
       "      <td>0.0</td>\n",
       "      <td>19</td>\n",
       "      <td>8250.205418</td>\n",
       "      <td>-8.250205e+03</td>\n",
       "      <td>8250.205418</td>\n",
       "      <td>-1.020750e+06</td>\n",
       "      <td>8250.205418</td>\n",
       "    </tr>\n",
       "    <tr>\n",
       "      <th>2</th>\n",
       "      <td>1987-05-15</td>\n",
       "      <td>70000.0</td>\n",
       "      <td>45</td>\n",
       "      <td>19809.115030</td>\n",
       "      <td>5.019088e+04</td>\n",
       "      <td>28059.320448</td>\n",
       "      <td>-9.705593e+05</td>\n",
       "      <td>0.000000</td>\n",
       "    </tr>\n",
       "    <tr>\n",
       "      <th>3</th>\n",
       "      <td>1987-11-15</td>\n",
       "      <td>70000.0</td>\n",
       "      <td>184</td>\n",
       "      <td>79354.235799</td>\n",
       "      <td>-9.354236e+03</td>\n",
       "      <td>107413.556247</td>\n",
       "      <td>-9.799136e+05</td>\n",
       "      <td>0.000000</td>\n",
       "    </tr>\n",
       "    <tr>\n",
       "      <th>4</th>\n",
       "      <td>1988-03-31</td>\n",
       "      <td>0.0</td>\n",
       "      <td>137</td>\n",
       "      <td>59051.312677</td>\n",
       "      <td>-5.905131e+04</td>\n",
       "      <td>166464.868924</td>\n",
       "      <td>-1.038965e+06</td>\n",
       "      <td>158214.663506</td>\n",
       "    </tr>\n",
       "    <tr>\n",
       "      <th>5</th>\n",
       "      <td>1988-05-15</td>\n",
       "      <td>70000.0</td>\n",
       "      <td>45</td>\n",
       "      <td>20162.596580</td>\n",
       "      <td>4.983740e+04</td>\n",
       "      <td>186627.465504</td>\n",
       "      <td>-9.891275e+05</td>\n",
       "      <td>0.000000</td>\n",
       "    </tr>\n",
       "    <tr>\n",
       "      <th>6</th>\n",
       "      <td>1988-11-15</td>\n",
       "      <td>1070000.0</td>\n",
       "      <td>184</td>\n",
       "      <td>80872.392320</td>\n",
       "      <td>9.891276e+05</td>\n",
       "      <td>267499.857824</td>\n",
       "      <td>1.421764e-01</td>\n",
       "      <td>0.000000</td>\n",
       "    </tr>\n",
       "    <tr>\n",
       "      <th>7</th>\n",
       "      <td>1989-03-31</td>\n",
       "      <td>0.0</td>\n",
       "      <td>136</td>\n",
       "      <td>-0.008503</td>\n",
       "      <td>8.503428e-03</td>\n",
       "      <td>267499.849320</td>\n",
       "      <td>1.506798e-01</td>\n",
       "      <td>101034.980396</td>\n",
       "    </tr>\n",
       "  </tbody>\n",
       "</table>\n",
       "</div>"
      ],
      "text/plain": [
       "        Date  Cash Flow  Elapsed Days  CurrentInterest  CurrentPrincipal  \\\n",
       "0 1987-03-12 -1012500.0             0         0.000000     -1.012500e+06   \n",
       "1 1987-03-31        0.0            19      8250.205418     -8.250205e+03   \n",
       "2 1987-05-15    70000.0            45     19809.115030      5.019088e+04   \n",
       "3 1987-11-15    70000.0           184     79354.235799     -9.354236e+03   \n",
       "4 1988-03-31        0.0           137     59051.312677     -5.905131e+04   \n",
       "5 1988-05-15    70000.0            45     20162.596580      4.983740e+04   \n",
       "6 1988-11-15  1070000.0           184     80872.392320      9.891276e+05   \n",
       "7 1989-03-31        0.0           136        -0.008503      8.503428e-03   \n",
       "\n",
       "   CumulativeInterest  ClosingPrincipal  InterestToBalance  \n",
       "0            0.000000     -1.012500e+06           0.000000  \n",
       "1         8250.205418     -1.020750e+06        8250.205418  \n",
       "2        28059.320448     -9.705593e+05           0.000000  \n",
       "3       107413.556247     -9.799136e+05           0.000000  \n",
       "4       166464.868924     -1.038965e+06      158214.663506  \n",
       "5       186627.465504     -9.891275e+05           0.000000  \n",
       "6       267499.857824      1.421764e-01           0.000000  \n",
       "7       267499.849320      1.506798e-01      101034.980396  "
      ]
     },
     "execution_count": 22,
     "metadata": {},
     "output_type": "execute_result"
    }
   ],
   "source": [
    "def interest_to_balance_data(df):\n",
    "    for index, row in df.iterrows():\n",
    "        if row['Cash Flow'] != 0:\n",
    "            df.loc[index, 'InterestToBalance'] = 0\n",
    "            continue\n",
    "        \n",
    "        df.loc[index, 'InterestToBalance'] = df.loc[index, 'CumulativeInterest'] - df.loc[0:(index-1), 'InterestToBalance'].sum()\n",
    "\n",
    "    return df\n",
    "\n",
    "interest_to_balance_data(cashflows_with_interest_principal)"
   ]
  },
  {
   "cell_type": "code",
   "execution_count": 23,
   "metadata": {},
   "outputs": [],
   "source": [
    "def generate_spreadsheet_page(path, bond_code, purchase_price, face_value, coupon_rate, coupon_frequency, first_coupon_amount, settlement_date, first_coupon_date, maturity_date):\n",
    "\n",
    "    cashflows = populate_cashflows(purchase_price, face_value, coupon_rate, coupon_frequency, first_coupon_amount, settlement_date, first_coupon_date, maturity_date)\n",
    "\n",
    "    ytm = calculate_ytm(cashflows, coupon_rate, coupon_frequency)\n",
    "\n",
    "    daily_rate = calc_daily_rate(ytm, coupon_frequency)\n",
    "\n",
    "    cashflows_with_interest_principal = populate_interest_principle_columns(cashflows, daily_rate)\n",
    "\n",
    "    cashflows_with_interest_principal = interest_to_balance_data(cashflows_with_interest_principal)\n",
    "\n",
    "    print(cashflows_with_interest_principal)\n",
    "    writer = pd.ExcelWriter(path, engine=\"openpyxl\", mode=\"w\")\n",
    "    cashflows_with_interest_principal.to_excel(writer, sheet_name=bond_code, startrow=5, index=False)\n",
    "\n",
    "    writer.close()"
   ]
  },
  {
   "cell_type": "code",
   "execution_count": null,
   "metadata": {},
   "outputs": [
    {
     "name": "stdout",
     "output_type": "stream",
     "text": [
      "  BondCode  PurchaseAmount  FaceValue  CouponRate  CouponFrequency  \\\n",
      "0    PCTHB           20000      20000      0.0756                4   \n",
      "1    PCTHC           15000      15000      0.0753                4   \n",
      "2   WNZ2T2           50000      50000      0.0673                4   \n",
      "\n",
      "   FirstCouponAmount          SettlementDate         FirstCouponDate  \\\n",
      "0             378.00 1970-01-01 12:00:45.188 1970-01-01 12:00:45.281   \n",
      "1             282.25 1970-01-01 12:00:45.188 1970-01-01 12:00:45.281   \n",
      "2             841.25 1970-01-01 12:00:45.148 1970-01-01 12:00:44.971   \n",
      "\n",
      "             MaturityDate  \n",
      "0 1970-01-01 12:00:46.286  \n",
      "1 1970-01-01 12:00:46.651  \n",
      "2 1970-01-01 12:00:48.989  \n",
      "Doing PCTHB\n",
      "                     Date  Cash Flow  Elapsed Days  CurrentInterest  \\\n",
      "0 1970-01-01 12:00:45.188   -20000.0             0          0.00000   \n",
      "1 1970-01-01 12:00:46.286      378.0             0          0.00000   \n",
      "2 1970-03-31 00:00:00.000        0.0            88        357.52764   \n",
      "\n",
      "   CurrentPrincipal  CumulativeInterest  ClosingPrincipal  InterestToBalance  \n",
      "0      -20000.00000             0.00000      -20000.00000            0.00000  \n",
      "1         378.00000             0.00000      -19622.00000            0.00000  \n",
      "2        -357.52764           357.52764      -19979.52764          357.52764  \n",
      "Doing PCTHC\n",
      "                     Date  Cash Flow  Elapsed Days  CurrentInterest  \\\n",
      "0 1970-01-01 12:00:45.188  -15000.00             0         0.000000   \n",
      "1 1970-01-01 12:00:46.651     282.25             0         0.000000   \n",
      "2 1970-03-31 00:00:00.000       0.00            88       267.104697   \n",
      "\n",
      "   CurrentPrincipal  CumulativeInterest  ClosingPrincipal  InterestToBalance  \n",
      "0     -15000.000000            0.000000     -15000.000000           0.000000  \n",
      "1        282.250000            0.000000     -14717.750000           0.000000  \n",
      "2       -267.104697          267.104697     -14984.854697         267.104697  \n",
      "Doing WNZ2T2\n",
      "                     Date  Cash Flow  Elapsed Days  CurrentInterest  \\\n",
      "0 1970-01-01 12:00:45.148  -50000.00             0         0.000000   \n",
      "1 1970-01-01 12:00:48.989     841.25             0         0.000000   \n",
      "2 1970-03-31 00:00:00.000       0.00            88       797.400142   \n",
      "\n",
      "   CurrentPrincipal  CumulativeInterest  ClosingPrincipal  InterestToBalance  \n",
      "0     -50000.000000            0.000000     -50000.000000           0.000000  \n",
      "1        841.250000            0.000000     -49158.750000           0.000000  \n",
      "2       -797.400142          797.400142     -49956.150142         797.400142  \n"
     ]
    },
    {
     "name": "stderr",
     "output_type": "stream",
     "text": [
      "/tmp/ipykernel_614016/2899082913.py:14: RuntimeWarning: The iteration is not making good progress, as measured by the \n",
      " improvement from the last ten iterations.\n",
      "  ytm = opt.fsolve(PV_of_cashflow, first_guess, (cashflows, frequency), xtol=1e-12)\n",
      "/tmp/ipykernel_614016/2899082913.py:14: RuntimeWarning: The iteration is not making good progress, as measured by the \n",
      " improvement from the last ten iterations.\n",
      "  ytm = opt.fsolve(PV_of_cashflow, first_guess, (cashflows, frequency), xtol=1e-12)\n",
      "/tmp/ipykernel_614016/2899082913.py:14: RuntimeWarning: The iteration is not making good progress, as measured by the \n",
      " improvement from the last ten iterations.\n",
      "  ytm = opt.fsolve(PV_of_cashflow, first_guess, (cashflows, frequency), xtol=1e-12)\n"
     ]
    }
   ],
   "source": [
    "file_name = 'workbench/test_data.xlsx'\n",
    "\n",
    "data = pd.read_excel(file_name)\n",
    "print(data)\n",
    "output_file_name = file_name.split('.')[0] + \"_YTM_Calculation_\" + datetime.now().strftime(\"%Y-%m-%d_%H-%M-%S\") + \".xlsx\"\n",
    "\n",
    "\n",
    "for index, row in data.iterrows():\n",
    "    print(f\"Doing {row['BondCode']}\")\n",
    "\n",
    "    generate_spreadsheet_page(output_file_name, row[\"BondCode\"], row[\"PurchaseAmount\"], row[\"FaceValue\"], row[\"CouponRate\"], row[\"CouponFrequency\"], row[\"FirstCouponAmount\"], row[\"SettlementDate\"], row[\"FirstCouponDate\"], row[\"MaturityDate\"])\n",
    "\n"
   ]
  }
 ],
 "metadata": {
  "kernelspec": {
   "display_name": "ytm-accrued-interest-calculator-G9vRfNCv-py3.11",
   "language": "python",
   "name": "python3"
  },
  "language_info": {
   "codemirror_mode": {
    "name": "ipython",
    "version": 3
   },
   "file_extension": ".py",
   "mimetype": "text/x-python",
   "name": "python",
   "nbconvert_exporter": "python",
   "pygments_lexer": "ipython3",
   "version": "3.11.5"
  }
 },
 "nbformat": 4,
 "nbformat_minor": 2
}
